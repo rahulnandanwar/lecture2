{
 "cells": [
  {
   "cell_type": "markdown",
   "metadata": {},
   "source": [
    "# Telecom_Python Code -->> Hypothesis test, Gausian transformation"
   ]
  },
  {
   "cell_type": "markdown",
   "metadata": {},
   "source": [
    "#### import libraries"
   ]
  },
  {
   "cell_type": "code",
   "execution_count": 65,
   "metadata": {},
   "outputs": [],
   "source": [
    "import pandas as pd\n",
    "import numpy as np\n",
    "import matplotlib.pyplot as plt\n",
    "%matplotlib inline\n",
    "\n",
    "import warnings\n",
    "warnings.filterwarnings('ignore')"
   ]
  },
  {
   "cell_type": "code",
   "execution_count": 66,
   "metadata": {},
   "outputs": [],
   "source": [
    "#read excel data\n",
    "telecom_churn_df = pd.read_excel(r'D:\\UpGrad Session\\Session 2 _ 14-15 Nov\\GA_Dataset.xlsx',sheet_name='Data')"
   ]
  },
  {
   "cell_type": "code",
   "execution_count": 67,
   "metadata": {},
   "outputs": [
    {
     "name": "stdout",
     "output_type": "stream",
     "text": [
      "<class 'pandas.core.frame.DataFrame'>\n",
      "RangeIndex: 3333 entries, 0 to 3332\n",
      "Data columns (total 11 columns):\n",
      " #   Column           Non-Null Count  Dtype  \n",
      "---  ------           --------------  -----  \n",
      " 0   Churn            3333 non-null   int64  \n",
      " 1   AccountWeeks     3333 non-null   int64  \n",
      " 2   ContractRenewal  3333 non-null   int64  \n",
      " 3   DataPlan         3333 non-null   int64  \n",
      " 4   DataUsage        3333 non-null   float64\n",
      " 5   CustServCalls    3333 non-null   int64  \n",
      " 6   DayMins          3333 non-null   float64\n",
      " 7   DayCalls         3333 non-null   int64  \n",
      " 8   MonthlyCharge    3333 non-null   float64\n",
      " 9   OverageFee       3333 non-null   float64\n",
      " 10  RoamMins         3333 non-null   float64\n",
      "dtypes: float64(5), int64(6)\n",
      "memory usage: 286.6 KB\n"
     ]
    }
   ],
   "source": [
    "telecom_churn_df.info()"
   ]
  },
  {
   "cell_type": "code",
   "execution_count": 68,
   "metadata": {},
   "outputs": [
    {
     "data": {
      "text/html": [
       "<div>\n",
       "<style scoped>\n",
       "    .dataframe tbody tr th:only-of-type {\n",
       "        vertical-align: middle;\n",
       "    }\n",
       "\n",
       "    .dataframe tbody tr th {\n",
       "        vertical-align: top;\n",
       "    }\n",
       "\n",
       "    .dataframe thead th {\n",
       "        text-align: right;\n",
       "    }\n",
       "</style>\n",
       "<table border=\"1\" class=\"dataframe\">\n",
       "  <thead>\n",
       "    <tr style=\"text-align: right;\">\n",
       "      <th></th>\n",
       "      <th>Churn</th>\n",
       "      <th>AccountWeeks</th>\n",
       "      <th>ContractRenewal</th>\n",
       "      <th>DataPlan</th>\n",
       "      <th>DataUsage</th>\n",
       "      <th>CustServCalls</th>\n",
       "      <th>DayMins</th>\n",
       "      <th>DayCalls</th>\n",
       "      <th>MonthlyCharge</th>\n",
       "      <th>OverageFee</th>\n",
       "      <th>RoamMins</th>\n",
       "    </tr>\n",
       "  </thead>\n",
       "  <tbody>\n",
       "    <tr>\n",
       "      <th>0</th>\n",
       "      <td>0</td>\n",
       "      <td>128</td>\n",
       "      <td>1</td>\n",
       "      <td>1</td>\n",
       "      <td>2.70</td>\n",
       "      <td>1</td>\n",
       "      <td>265.1</td>\n",
       "      <td>110</td>\n",
       "      <td>89.0</td>\n",
       "      <td>9.87</td>\n",
       "      <td>10.0</td>\n",
       "    </tr>\n",
       "    <tr>\n",
       "      <th>1</th>\n",
       "      <td>0</td>\n",
       "      <td>107</td>\n",
       "      <td>1</td>\n",
       "      <td>1</td>\n",
       "      <td>3.70</td>\n",
       "      <td>1</td>\n",
       "      <td>161.6</td>\n",
       "      <td>123</td>\n",
       "      <td>82.0</td>\n",
       "      <td>9.78</td>\n",
       "      <td>13.7</td>\n",
       "    </tr>\n",
       "    <tr>\n",
       "      <th>2</th>\n",
       "      <td>0</td>\n",
       "      <td>137</td>\n",
       "      <td>1</td>\n",
       "      <td>0</td>\n",
       "      <td>0.00</td>\n",
       "      <td>0</td>\n",
       "      <td>243.4</td>\n",
       "      <td>114</td>\n",
       "      <td>52.0</td>\n",
       "      <td>6.06</td>\n",
       "      <td>12.2</td>\n",
       "    </tr>\n",
       "    <tr>\n",
       "      <th>3</th>\n",
       "      <td>0</td>\n",
       "      <td>84</td>\n",
       "      <td>0</td>\n",
       "      <td>0</td>\n",
       "      <td>0.00</td>\n",
       "      <td>2</td>\n",
       "      <td>299.4</td>\n",
       "      <td>71</td>\n",
       "      <td>57.0</td>\n",
       "      <td>3.10</td>\n",
       "      <td>6.6</td>\n",
       "    </tr>\n",
       "    <tr>\n",
       "      <th>4</th>\n",
       "      <td>0</td>\n",
       "      <td>75</td>\n",
       "      <td>0</td>\n",
       "      <td>0</td>\n",
       "      <td>0.00</td>\n",
       "      <td>3</td>\n",
       "      <td>166.7</td>\n",
       "      <td>113</td>\n",
       "      <td>41.0</td>\n",
       "      <td>7.42</td>\n",
       "      <td>10.1</td>\n",
       "    </tr>\n",
       "    <tr>\n",
       "      <th>5</th>\n",
       "      <td>0</td>\n",
       "      <td>118</td>\n",
       "      <td>0</td>\n",
       "      <td>0</td>\n",
       "      <td>0.00</td>\n",
       "      <td>0</td>\n",
       "      <td>223.4</td>\n",
       "      <td>98</td>\n",
       "      <td>57.0</td>\n",
       "      <td>11.03</td>\n",
       "      <td>6.3</td>\n",
       "    </tr>\n",
       "    <tr>\n",
       "      <th>6</th>\n",
       "      <td>0</td>\n",
       "      <td>121</td>\n",
       "      <td>1</td>\n",
       "      <td>1</td>\n",
       "      <td>2.03</td>\n",
       "      <td>3</td>\n",
       "      <td>218.2</td>\n",
       "      <td>88</td>\n",
       "      <td>87.3</td>\n",
       "      <td>17.43</td>\n",
       "      <td>7.5</td>\n",
       "    </tr>\n",
       "    <tr>\n",
       "      <th>7</th>\n",
       "      <td>0</td>\n",
       "      <td>147</td>\n",
       "      <td>0</td>\n",
       "      <td>0</td>\n",
       "      <td>0.00</td>\n",
       "      <td>0</td>\n",
       "      <td>157.0</td>\n",
       "      <td>79</td>\n",
       "      <td>36.0</td>\n",
       "      <td>5.16</td>\n",
       "      <td>7.1</td>\n",
       "    </tr>\n",
       "    <tr>\n",
       "      <th>8</th>\n",
       "      <td>0</td>\n",
       "      <td>117</td>\n",
       "      <td>1</td>\n",
       "      <td>0</td>\n",
       "      <td>0.19</td>\n",
       "      <td>1</td>\n",
       "      <td>184.5</td>\n",
       "      <td>97</td>\n",
       "      <td>63.9</td>\n",
       "      <td>17.58</td>\n",
       "      <td>8.7</td>\n",
       "    </tr>\n",
       "    <tr>\n",
       "      <th>9</th>\n",
       "      <td>0</td>\n",
       "      <td>141</td>\n",
       "      <td>0</td>\n",
       "      <td>1</td>\n",
       "      <td>3.02</td>\n",
       "      <td>0</td>\n",
       "      <td>258.6</td>\n",
       "      <td>84</td>\n",
       "      <td>93.2</td>\n",
       "      <td>11.10</td>\n",
       "      <td>11.2</td>\n",
       "    </tr>\n",
       "    <tr>\n",
       "      <th>10</th>\n",
       "      <td>1</td>\n",
       "      <td>65</td>\n",
       "      <td>1</td>\n",
       "      <td>0</td>\n",
       "      <td>0.29</td>\n",
       "      <td>4</td>\n",
       "      <td>129.1</td>\n",
       "      <td>137</td>\n",
       "      <td>44.9</td>\n",
       "      <td>11.43</td>\n",
       "      <td>12.7</td>\n",
       "    </tr>\n",
       "    <tr>\n",
       "      <th>11</th>\n",
       "      <td>0</td>\n",
       "      <td>74</td>\n",
       "      <td>1</td>\n",
       "      <td>0</td>\n",
       "      <td>0.34</td>\n",
       "      <td>0</td>\n",
       "      <td>187.7</td>\n",
       "      <td>127</td>\n",
       "      <td>49.4</td>\n",
       "      <td>8.17</td>\n",
       "      <td>9.1</td>\n",
       "    </tr>\n",
       "    <tr>\n",
       "      <th>12</th>\n",
       "      <td>0</td>\n",
       "      <td>168</td>\n",
       "      <td>1</td>\n",
       "      <td>0</td>\n",
       "      <td>0.00</td>\n",
       "      <td>1</td>\n",
       "      <td>128.8</td>\n",
       "      <td>96</td>\n",
       "      <td>31.0</td>\n",
       "      <td>5.25</td>\n",
       "      <td>11.2</td>\n",
       "    </tr>\n",
       "    <tr>\n",
       "      <th>13</th>\n",
       "      <td>0</td>\n",
       "      <td>95</td>\n",
       "      <td>1</td>\n",
       "      <td>0</td>\n",
       "      <td>0.44</td>\n",
       "      <td>3</td>\n",
       "      <td>156.6</td>\n",
       "      <td>88</td>\n",
       "      <td>52.4</td>\n",
       "      <td>12.38</td>\n",
       "      <td>12.3</td>\n",
       "    </tr>\n",
       "    <tr>\n",
       "      <th>14</th>\n",
       "      <td>0</td>\n",
       "      <td>62</td>\n",
       "      <td>1</td>\n",
       "      <td>0</td>\n",
       "      <td>0.00</td>\n",
       "      <td>4</td>\n",
       "      <td>120.7</td>\n",
       "      <td>70</td>\n",
       "      <td>47.0</td>\n",
       "      <td>15.36</td>\n",
       "      <td>13.1</td>\n",
       "    </tr>\n",
       "    <tr>\n",
       "      <th>15</th>\n",
       "      <td>1</td>\n",
       "      <td>161</td>\n",
       "      <td>1</td>\n",
       "      <td>0</td>\n",
       "      <td>0.00</td>\n",
       "      <td>4</td>\n",
       "      <td>332.9</td>\n",
       "      <td>67</td>\n",
       "      <td>84.0</td>\n",
       "      <td>15.89</td>\n",
       "      <td>5.4</td>\n",
       "    </tr>\n",
       "    <tr>\n",
       "      <th>16</th>\n",
       "      <td>0</td>\n",
       "      <td>85</td>\n",
       "      <td>1</td>\n",
       "      <td>1</td>\n",
       "      <td>3.73</td>\n",
       "      <td>1</td>\n",
       "      <td>196.4</td>\n",
       "      <td>139</td>\n",
       "      <td>95.3</td>\n",
       "      <td>14.05</td>\n",
       "      <td>13.8</td>\n",
       "    </tr>\n",
       "    <tr>\n",
       "      <th>17</th>\n",
       "      <td>0</td>\n",
       "      <td>93</td>\n",
       "      <td>1</td>\n",
       "      <td>0</td>\n",
       "      <td>0.00</td>\n",
       "      <td>3</td>\n",
       "      <td>190.7</td>\n",
       "      <td>114</td>\n",
       "      <td>51.0</td>\n",
       "      <td>10.91</td>\n",
       "      <td>8.1</td>\n",
       "    </tr>\n",
       "    <tr>\n",
       "      <th>18</th>\n",
       "      <td>0</td>\n",
       "      <td>76</td>\n",
       "      <td>1</td>\n",
       "      <td>1</td>\n",
       "      <td>2.70</td>\n",
       "      <td>1</td>\n",
       "      <td>189.7</td>\n",
       "      <td>66</td>\n",
       "      <td>78.0</td>\n",
       "      <td>10.64</td>\n",
       "      <td>10.0</td>\n",
       "    </tr>\n",
       "    <tr>\n",
       "      <th>19</th>\n",
       "      <td>0</td>\n",
       "      <td>73</td>\n",
       "      <td>1</td>\n",
       "      <td>0</td>\n",
       "      <td>0.00</td>\n",
       "      <td>1</td>\n",
       "      <td>224.4</td>\n",
       "      <td>90</td>\n",
       "      <td>52.0</td>\n",
       "      <td>7.98</td>\n",
       "      <td>13.0</td>\n",
       "    </tr>\n",
       "  </tbody>\n",
       "</table>\n",
       "</div>"
      ],
      "text/plain": [
       "    Churn  AccountWeeks  ContractRenewal  DataPlan  DataUsage  CustServCalls  \\\n",
       "0       0           128                1         1       2.70              1   \n",
       "1       0           107                1         1       3.70              1   \n",
       "2       0           137                1         0       0.00              0   \n",
       "3       0            84                0         0       0.00              2   \n",
       "4       0            75                0         0       0.00              3   \n",
       "5       0           118                0         0       0.00              0   \n",
       "6       0           121                1         1       2.03              3   \n",
       "7       0           147                0         0       0.00              0   \n",
       "8       0           117                1         0       0.19              1   \n",
       "9       0           141                0         1       3.02              0   \n",
       "10      1            65                1         0       0.29              4   \n",
       "11      0            74                1         0       0.34              0   \n",
       "12      0           168                1         0       0.00              1   \n",
       "13      0            95                1         0       0.44              3   \n",
       "14      0            62                1         0       0.00              4   \n",
       "15      1           161                1         0       0.00              4   \n",
       "16      0            85                1         1       3.73              1   \n",
       "17      0            93                1         0       0.00              3   \n",
       "18      0            76                1         1       2.70              1   \n",
       "19      0            73                1         0       0.00              1   \n",
       "\n",
       "    DayMins  DayCalls  MonthlyCharge  OverageFee  RoamMins  \n",
       "0     265.1       110           89.0        9.87      10.0  \n",
       "1     161.6       123           82.0        9.78      13.7  \n",
       "2     243.4       114           52.0        6.06      12.2  \n",
       "3     299.4        71           57.0        3.10       6.6  \n",
       "4     166.7       113           41.0        7.42      10.1  \n",
       "5     223.4        98           57.0       11.03       6.3  \n",
       "6     218.2        88           87.3       17.43       7.5  \n",
       "7     157.0        79           36.0        5.16       7.1  \n",
       "8     184.5        97           63.9       17.58       8.7  \n",
       "9     258.6        84           93.2       11.10      11.2  \n",
       "10    129.1       137           44.9       11.43      12.7  \n",
       "11    187.7       127           49.4        8.17       9.1  \n",
       "12    128.8        96           31.0        5.25      11.2  \n",
       "13    156.6        88           52.4       12.38      12.3  \n",
       "14    120.7        70           47.0       15.36      13.1  \n",
       "15    332.9        67           84.0       15.89       5.4  \n",
       "16    196.4       139           95.3       14.05      13.8  \n",
       "17    190.7       114           51.0       10.91       8.1  \n",
       "18    189.7        66           78.0       10.64      10.0  \n",
       "19    224.4        90           52.0        7.98      13.0  "
      ]
     },
     "execution_count": 68,
     "metadata": {},
     "output_type": "execute_result"
    }
   ],
   "source": [
    "telecom_churn_df.head(20)"
   ]
  },
  {
   "cell_type": "code",
   "execution_count": 69,
   "metadata": {},
   "outputs": [
    {
     "data": {
      "text/html": [
       "<div>\n",
       "<style scoped>\n",
       "    .dataframe tbody tr th:only-of-type {\n",
       "        vertical-align: middle;\n",
       "    }\n",
       "\n",
       "    .dataframe tbody tr th {\n",
       "        vertical-align: top;\n",
       "    }\n",
       "\n",
       "    .dataframe thead th {\n",
       "        text-align: right;\n",
       "    }\n",
       "</style>\n",
       "<table border=\"1\" class=\"dataframe\">\n",
       "  <thead>\n",
       "    <tr style=\"text-align: right;\">\n",
       "      <th></th>\n",
       "      <th>count</th>\n",
       "      <th>mean</th>\n",
       "      <th>std</th>\n",
       "      <th>min</th>\n",
       "      <th>25%</th>\n",
       "      <th>50%</th>\n",
       "      <th>75%</th>\n",
       "      <th>max</th>\n",
       "    </tr>\n",
       "  </thead>\n",
       "  <tbody>\n",
       "    <tr>\n",
       "      <th>Churn</th>\n",
       "      <td>3333.0</td>\n",
       "      <td>0.144914</td>\n",
       "      <td>0.352067</td>\n",
       "      <td>0.0</td>\n",
       "      <td>0.00</td>\n",
       "      <td>0.00</td>\n",
       "      <td>0.00</td>\n",
       "      <td>1.00</td>\n",
       "    </tr>\n",
       "    <tr>\n",
       "      <th>AccountWeeks</th>\n",
       "      <td>3333.0</td>\n",
       "      <td>101.064806</td>\n",
       "      <td>39.822106</td>\n",
       "      <td>1.0</td>\n",
       "      <td>74.00</td>\n",
       "      <td>101.00</td>\n",
       "      <td>127.00</td>\n",
       "      <td>243.00</td>\n",
       "    </tr>\n",
       "    <tr>\n",
       "      <th>ContractRenewal</th>\n",
       "      <td>3333.0</td>\n",
       "      <td>0.903090</td>\n",
       "      <td>0.295879</td>\n",
       "      <td>0.0</td>\n",
       "      <td>1.00</td>\n",
       "      <td>1.00</td>\n",
       "      <td>1.00</td>\n",
       "      <td>1.00</td>\n",
       "    </tr>\n",
       "    <tr>\n",
       "      <th>DataPlan</th>\n",
       "      <td>3333.0</td>\n",
       "      <td>0.276628</td>\n",
       "      <td>0.447398</td>\n",
       "      <td>0.0</td>\n",
       "      <td>0.00</td>\n",
       "      <td>0.00</td>\n",
       "      <td>1.00</td>\n",
       "      <td>1.00</td>\n",
       "    </tr>\n",
       "    <tr>\n",
       "      <th>DataUsage</th>\n",
       "      <td>3333.0</td>\n",
       "      <td>0.816475</td>\n",
       "      <td>1.272668</td>\n",
       "      <td>0.0</td>\n",
       "      <td>0.00</td>\n",
       "      <td>0.00</td>\n",
       "      <td>1.78</td>\n",
       "      <td>5.40</td>\n",
       "    </tr>\n",
       "    <tr>\n",
       "      <th>CustServCalls</th>\n",
       "      <td>3333.0</td>\n",
       "      <td>1.562856</td>\n",
       "      <td>1.315491</td>\n",
       "      <td>0.0</td>\n",
       "      <td>1.00</td>\n",
       "      <td>1.00</td>\n",
       "      <td>2.00</td>\n",
       "      <td>9.00</td>\n",
       "    </tr>\n",
       "    <tr>\n",
       "      <th>DayMins</th>\n",
       "      <td>3333.0</td>\n",
       "      <td>179.775098</td>\n",
       "      <td>54.467389</td>\n",
       "      <td>0.0</td>\n",
       "      <td>143.70</td>\n",
       "      <td>179.40</td>\n",
       "      <td>216.40</td>\n",
       "      <td>350.80</td>\n",
       "    </tr>\n",
       "    <tr>\n",
       "      <th>DayCalls</th>\n",
       "      <td>3333.0</td>\n",
       "      <td>100.435644</td>\n",
       "      <td>20.069084</td>\n",
       "      <td>0.0</td>\n",
       "      <td>87.00</td>\n",
       "      <td>101.00</td>\n",
       "      <td>114.00</td>\n",
       "      <td>165.00</td>\n",
       "    </tr>\n",
       "    <tr>\n",
       "      <th>MonthlyCharge</th>\n",
       "      <td>3333.0</td>\n",
       "      <td>56.305161</td>\n",
       "      <td>16.426032</td>\n",
       "      <td>14.0</td>\n",
       "      <td>45.00</td>\n",
       "      <td>53.50</td>\n",
       "      <td>66.20</td>\n",
       "      <td>111.30</td>\n",
       "    </tr>\n",
       "    <tr>\n",
       "      <th>OverageFee</th>\n",
       "      <td>3333.0</td>\n",
       "      <td>10.051488</td>\n",
       "      <td>2.535712</td>\n",
       "      <td>0.0</td>\n",
       "      <td>8.33</td>\n",
       "      <td>10.07</td>\n",
       "      <td>11.77</td>\n",
       "      <td>18.19</td>\n",
       "    </tr>\n",
       "    <tr>\n",
       "      <th>RoamMins</th>\n",
       "      <td>3333.0</td>\n",
       "      <td>10.237294</td>\n",
       "      <td>2.791840</td>\n",
       "      <td>0.0</td>\n",
       "      <td>8.50</td>\n",
       "      <td>10.30</td>\n",
       "      <td>12.10</td>\n",
       "      <td>20.00</td>\n",
       "    </tr>\n",
       "  </tbody>\n",
       "</table>\n",
       "</div>"
      ],
      "text/plain": [
       "                  count        mean        std   min     25%     50%     75%  \\\n",
       "Churn            3333.0    0.144914   0.352067   0.0    0.00    0.00    0.00   \n",
       "AccountWeeks     3333.0  101.064806  39.822106   1.0   74.00  101.00  127.00   \n",
       "ContractRenewal  3333.0    0.903090   0.295879   0.0    1.00    1.00    1.00   \n",
       "DataPlan         3333.0    0.276628   0.447398   0.0    0.00    0.00    1.00   \n",
       "DataUsage        3333.0    0.816475   1.272668   0.0    0.00    0.00    1.78   \n",
       "CustServCalls    3333.0    1.562856   1.315491   0.0    1.00    1.00    2.00   \n",
       "DayMins          3333.0  179.775098  54.467389   0.0  143.70  179.40  216.40   \n",
       "DayCalls         3333.0  100.435644  20.069084   0.0   87.00  101.00  114.00   \n",
       "MonthlyCharge    3333.0   56.305161  16.426032  14.0   45.00   53.50   66.20   \n",
       "OverageFee       3333.0   10.051488   2.535712   0.0    8.33   10.07   11.77   \n",
       "RoamMins         3333.0   10.237294   2.791840   0.0    8.50   10.30   12.10   \n",
       "\n",
       "                    max  \n",
       "Churn              1.00  \n",
       "AccountWeeks     243.00  \n",
       "ContractRenewal    1.00  \n",
       "DataPlan           1.00  \n",
       "DataUsage          5.40  \n",
       "CustServCalls      9.00  \n",
       "DayMins          350.80  \n",
       "DayCalls         165.00  \n",
       "MonthlyCharge    111.30  \n",
       "OverageFee        18.19  \n",
       "RoamMins          20.00  "
      ]
     },
     "execution_count": 69,
     "metadata": {},
     "output_type": "execute_result"
    }
   ],
   "source": [
    "telecom_churn_df.describe().transpose()"
   ]
  },
  {
   "cell_type": "raw",
   "metadata": {},
   "source": [
    "# Churn is the dependent variable\n",
    "# LDA the predictors need to be metric - we will not consider ContractRenewal and DataPlan"
   ]
  },
  {
   "cell_type": "code",
   "execution_count": 70,
   "metadata": {},
   "outputs": [
    {
     "data": {
      "text/plain": [
       "Churn\n",
       "0    2850\n",
       "1     483\n",
       "dtype: int64"
      ]
     },
     "execution_count": 70,
     "metadata": {},
     "output_type": "execute_result"
    }
   ],
   "source": [
    "#step1: we need to look at univariate graphs and density curves\n",
    "telecom_churn_df.groupby('Churn').size()"
   ]
  },
  {
   "cell_type": "code",
   "execution_count": 71,
   "metadata": {},
   "outputs": [
    {
     "data": {
      "text/plain": [
       "<AxesSubplot:xlabel='Churn', ylabel='count'>"
      ]
     },
     "execution_count": 71,
     "metadata": {},
     "output_type": "execute_result"
    },
    {
     "data": {
      "image/png": "[encoded data removed]",
      "text/plain": [
       "<Figure size 432x288 with 1 Axes>"
      ]
     },
     "metadata": {
      "needs_background": "light"
     },
     "output_type": "display_data"
    }
   ],
   "source": [
    "import seaborn as sns\n",
    "sns.countplot(telecom_churn_df['Churn'],label=\"Count\")"
   ]
  },
  {
   "cell_type": "code",
   "execution_count": 72,
   "metadata": {},
   "outputs": [
    {
     "data": {
      "image/png": "[encoded data removed]",
      "text/plain": [
       "<Figure size 432x288 with 1 Axes>"
      ]
     },
     "metadata": {
      "needs_background": "light"
     },
     "output_type": "display_data"
    }
   ],
   "source": [
    "plt.hist(telecom_churn_df['AccountWeeks'],bins=15)\n",
    "plt.show()"
   ]
  },
  {
   "cell_type": "markdown",
   "metadata": {},
   "source": [
    "## Shapiro–Wilk test"
   ]
  },
  {
   "attachments": {
    "image.png": {
     "image/png": "[encoded data removed]"
    }
   },
   "cell_type": "markdown",
   "metadata": {},
   "source": [
    "### The null-hypothesis of this test is that the population is normally distributed. \n",
    "\n",
    "The Shapiro-Wilk test is a way to tell if a random sample comes from a normal distribution.\n",
    "\n",
    "Thus, if the p value is less than the chosen alpha level, then the null hypothesis is rejected and there is evidence that the data tested are not normally distributed. \n",
    "\n",
    "On the other hand, if the p value is greater than the chosen alpha level, then the null hypothesis (that the data came from a normally distributed population) can not be rejected (e.g., for an alpha level of .05, a data set with a p value of less than .05 rejects the null hypothesis that the data are from a normally distributed population).\n",
    "\n",
    "This hypothesis is rejected if the critical value P for the test statistic W is less than 0.05.\n",
    "\n",
    "Formula for generating \n",
    "\n",
    "![image.png](attachment:image.png)\n",
    "\n",
    "where:\n",
    "\n",
    "xi are the ordered random sample values\n",
    "\n",
    "ai are constants generated from the covariances, variances and means of the sample (size n) from a normally distributed sample."
   ]
  },
  {
   "cell_type": "code",
   "execution_count": 73,
   "metadata": {},
   "outputs": [
    {
     "name": "stdout",
     "output_type": "stream",
     "text": [
      "Test Statistics 0.9982772469520569\n",
      "P - value -  0.0011495520593598485\n",
      "AccountWeeks is not Gaussian\n"
     ]
    }
   ],
   "source": [
    "from scipy.stats import shapiro\n",
    "stat,p= (shapiro(telecom_churn_df['AccountWeeks']))\n",
    "print(\"Test Statistics\", stat)\n",
    "print(\"P - value - \",p)\n",
    "alpha=0.05\n",
    "\n",
    "if p > alpha: \n",
    "    print('AccountWeeks is Gaussian')\n",
    "else: \n",
    "    print('AccountWeeks is not Gaussian')"
   ]
  },
  {
   "cell_type": "markdown",
   "metadata": {},
   "source": [
    "### visual check for Normality"
   ]
  },
  {
   "cell_type": "markdown",
   "metadata": {},
   "source": [
    "Q-Q(quantile-quantile) plots play a very vital role to graphically analyze and compare two probability distributions by \n",
    "plotting their quantiles against each other."
   ]
  },
  {
   "cell_type": "markdown",
   "metadata": {},
   "source": [
    "If all the points plotted on the graph perfectly lies on a straight line then we can clearly say that this distribution is \n",
    "Normally distribution because it is evenly aligned with the standard normal variate which is the simple concept of Q-Q plot."
   ]
  },
  {
   "cell_type": "code",
   "execution_count": 74,
   "metadata": {},
   "outputs": [
    {
     "data": {
      "image/png": "[encoded data removed]",
      "text/plain": [
       "<Figure size 432x288 with 1 Axes>"
      ]
     },
     "metadata": {
      "needs_background": "light"
     },
     "output_type": "display_data"
    }
   ],
   "source": [
    "from statsmodels.graphics.gofplots import qqplot   #Data quantile vs normal quantile\n",
    "qqplot(telecom_churn_df['AccountWeeks'],line='s')\n",
    "plt.show()"
   ]
  },
  {
   "cell_type": "markdown",
   "metadata": {},
   "source": [
    "### Anderson–Darling test"
   ]
  },
  {
   "cell_type": "markdown",
   "metadata": {},
   "source": [
    "The Anderson-Darling tests if data comes from a particular distribution. The null hypothesis — sample comes from a population \n",
    "that follows a particular distribution. \n",
    "\n",
    "The Anderson-Darling test makes use of the specific distribution in calculating critical values.\n",
    "\n",
    "This has the advantage of allowing a more sensitive test and the disadvantage that critical values must be calculated for each distribution.\n",
    "\n",
    "In this case, we will be testing if our data comes from a normal distribution."
   ]
  },
  {
   "cell_type": "code",
   "execution_count": 75,
   "metadata": {},
   "outputs": [
    {
     "name": "stdout",
     "output_type": "stream",
     "text": [
      "Statistic: 0.426\n",
      "Critical Values [0.575 0.655 0.786 0.917 1.091]\n",
      "15.000: 0.575, data looks normal (fail to reject H0)\n",
      "10.000: 0.655, data looks normal (fail to reject H0)\n",
      "5.000: 0.786, data looks normal (fail to reject H0)\n",
      "2.500: 0.917, data looks normal (fail to reject H0)\n",
      "1.000: 1.091, data looks normal (fail to reject H0)\n"
     ]
    }
   ],
   "source": [
    "from scipy.stats import anderson\n",
    "\n",
    "result = anderson(telecom_churn_df['AccountWeeks'])\n",
    "\n",
    "print('Statistic: %.3f' % result.statistic)\n",
    "\n",
    "p = 0\n",
    "\n",
    "print('Critical Values',result.critical_values)\n",
    "\n",
    "\n",
    "for i in range(len(result.critical_values)): \n",
    "    sl, cv = result.significance_level[i], result.critical_values[i]\n",
    "    \n",
    "    if result.statistic < result.critical_values[i]:\n",
    "        print('%.3f: %.3f, data looks normal (fail to reject H0)' % (sl, cv))\n",
    "    else:\n",
    "        print('%.3f: %.3f, data does not look normal (reject H0)' % (sl, cv))"
   ]
  },
  {
   "cell_type": "raw",
   "metadata": {},
   "source": [
    "Anderson Darling is a stronger test than shapiro wilkinson test\n",
    "\n",
    "we can see that Account weeks is Gaussian"
   ]
  },
  {
   "cell_type": "code",
   "execution_count": 76,
   "metadata": {},
   "outputs": [
    {
     "data": {
      "image/png": "[encoded data removed]",
      "text/plain": [
       "<Figure size 432x288 with 1 Axes>"
      ]
     },
     "metadata": {
      "needs_background": "light"
     },
     "output_type": "display_data"
    }
   ],
   "source": [
    "plt.hist(telecom_churn_df['DataUsage'],bins=10)\n",
    "plt.show()"
   ]
  },
  {
   "cell_type": "code",
   "execution_count": 77,
   "metadata": {},
   "outputs": [
    {
     "data": {
      "image/png": "[encoded data removed]",
      "text/plain": [
       "<Figure size 432x288 with 1 Axes>"
      ]
     },
     "metadata": {
      "needs_background": "light"
     },
     "output_type": "display_data"
    }
   ],
   "source": [
    "qqplot(telecom_churn_df['DataUsage'],line='s')\n",
    "plt.show()"
   ]
  },
  {
   "cell_type": "markdown",
   "metadata": {},
   "source": [
    "### Why Transformation ?\n",
    "\n",
    "#### Guassian Transformation\n",
    "\n",
    "Some machine learning algorithms like linear and logistic assume that the features are normally distributed\n",
    "-Accuracy - Performance\n",
    "- logarithmic transformation\n",
    "- reciprocal transformation\n",
    "- square root transformation\n",
    "- exponential transformation (more general, you can use any exponent)\n",
    "- boxcox transformation"
   ]
  },
  {
   "cell_type": "markdown",
   "metadata": {},
   "source": [
    "### Logarithmic transformation"
   ]
  },
  {
   "cell_type": "markdown",
   "metadata": {},
   "source": [
    "Perform data transformation to Normalized the data"
   ]
  },
  {
   "cell_type": "code",
   "execution_count": 78,
   "metadata": {},
   "outputs": [
    {
     "data": {
      "image/png": "[encoded data removed]",
      "text/plain": [
       "<Figure size 432x288 with 1 Axes>"
      ]
     },
     "metadata": {
      "needs_background": "light"
     },
     "output_type": "display_data"
    }
   ],
   "source": [
    "x=np.log(telecom_churn_df['DataUsage']+1)\n",
    "plt.hist(x,bins=10)\n",
    "plt.show()"
   ]
  },
  {
   "cell_type": "markdown",
   "metadata": {},
   "source": [
    "this value is not Gaussian\n",
    "\n",
    "we will not consider this value"
   ]
  },
  {
   "cell_type": "code",
   "execution_count": 79,
   "metadata": {},
   "outputs": [
    {
     "data": {
      "image/png": "[encoded data removed]",
      "text/plain": [
       "<Figure size 432x288 with 1 Axes>"
      ]
     },
     "metadata": {
      "needs_background": "light"
     },
     "output_type": "display_data"
    }
   ],
   "source": [
    "plt.hist(telecom_churn_df['CustServCalls'],bins=11)\n",
    "plt.show()"
   ]
  },
  {
   "cell_type": "code",
   "execution_count": 80,
   "metadata": {},
   "outputs": [
    {
     "data": {
      "image/png": "[encoded data removed]",
      "text/plain": [
       "<Figure size 432x288 with 1 Axes>"
      ]
     },
     "metadata": {
      "needs_background": "light"
     },
     "output_type": "display_data"
    }
   ],
   "source": [
    "x=np.log(telecom_churn_df['CustServCalls']+1)\n",
    "plt.hist(x,bins=10)\n",
    "plt.show()"
   ]
  },
  {
   "cell_type": "code",
   "execution_count": 81,
   "metadata": {},
   "outputs": [],
   "source": [
    "#this value is not Gaussian\n",
    "# we will not consider this value"
   ]
  },
  {
   "cell_type": "code",
   "execution_count": 82,
   "metadata": {},
   "outputs": [
    {
     "data": {
      "image/png": "[encoded data removed]",
      "text/plain": [
       "<Figure size 432x288 with 1 Axes>"
      ]
     },
     "metadata": {
      "needs_background": "light"
     },
     "output_type": "display_data"
    }
   ],
   "source": [
    "plt.hist(telecom_churn_df['DayMins'],bins=15)\n",
    "plt.show()"
   ]
  },
  {
   "cell_type": "code",
   "execution_count": 83,
   "metadata": {},
   "outputs": [
    {
     "data": {
      "image/png": "[encoded data removed]",
      "text/plain": [
       "<Figure size 432x288 with 1 Axes>"
      ]
     },
     "metadata": {
      "needs_background": "light"
     },
     "output_type": "display_data"
    }
   ],
   "source": [
    "qqplot(telecom_churn_df['DayMins'],line='s')\n",
    "plt.show()"
   ]
  },
  {
   "cell_type": "code",
   "execution_count": 84,
   "metadata": {},
   "outputs": [
    {
     "name": "stdout",
     "output_type": "stream",
     "text": [
      "DayMins is Gaussian\n"
     ]
    }
   ],
   "source": [
    "stat,p= (shapiro(telecom_churn_df['DayMins']))\n",
    "alpha=0.05\n",
    "\n",
    "if p > alpha: \n",
    "    print('DayMins is Gaussian')\n",
    "else: \n",
    "    print('DayMins is not Gaussian')"
   ]
  },
  {
   "cell_type": "code",
   "execution_count": 85,
   "metadata": {},
   "outputs": [],
   "source": [
    "# we will consider this variable"
   ]
  },
  {
   "cell_type": "code",
   "execution_count": 86,
   "metadata": {},
   "outputs": [
    {
     "data": {
      "image/png": "[encoded data removed]",
      "text/plain": [
       "<Figure size 432x288 with 1 Axes>"
      ]
     },
     "metadata": {
      "needs_background": "light"
     },
     "output_type": "display_data"
    }
   ],
   "source": [
    "plt.hist(telecom_churn_df['DayCalls'],bins=12)\n",
    "plt.show()"
   ]
  },
  {
   "cell_type": "code",
   "execution_count": 87,
   "metadata": {},
   "outputs": [
    {
     "data": {
      "image/png": "[encoded data removed]",
      "text/plain": [
       "<Figure size 432x288 with 1 Axes>"
      ]
     },
     "metadata": {
      "needs_background": "light"
     },
     "output_type": "display_data"
    }
   ],
   "source": [
    "qqplot(telecom_churn_df['DayCalls'],line='s')\n",
    "plt.show()"
   ]
  },
  {
   "cell_type": "code",
   "execution_count": 88,
   "metadata": {},
   "outputs": [
    {
     "name": "stdout",
     "output_type": "stream",
     "text": [
      "DayCalls is not Gaussian\n"
     ]
    }
   ],
   "source": [
    "stat,p= (shapiro(telecom_churn_df['DayCalls']))\n",
    "alpha=0.05\n",
    "\n",
    "if p > alpha: \n",
    "    print('DayCalls is Gaussian')\n",
    "else: \n",
    "    print('DayCalls is not Gaussian')"
   ]
  },
  {
   "cell_type": "code",
   "execution_count": 89,
   "metadata": {},
   "outputs": [],
   "source": [
    "y=(telecom_churn_df['DayCalls']==0)"
   ]
  },
  {
   "cell_type": "code",
   "execution_count": 90,
   "metadata": {},
   "outputs": [
    {
     "name": "stdout",
     "output_type": "stream",
     "text": [
      "# rows with zero values 2\n"
     ]
    }
   ],
   "source": [
    "#how many zero values\n",
    "print('# rows with zero values',y.sum())"
   ]
  },
  {
   "cell_type": "code",
   "execution_count": 91,
   "metadata": {},
   "outputs": [],
   "source": [
    "# we have excluded these 2 rows\n",
    "telecom_churn_df=telecom_churn_df[telecom_churn_df['DayCalls']!=0]"
   ]
  },
  {
   "cell_type": "code",
   "execution_count": 92,
   "metadata": {},
   "outputs": [
    {
     "data": {
      "image/png": "[encoded data removed]",
      "text/plain": [
       "<Figure size 432x288 with 1 Axes>"
      ]
     },
     "metadata": {
      "needs_background": "light"
     },
     "output_type": "display_data"
    }
   ],
   "source": [
    "plt.hist(telecom_churn_df['DayCalls'],bins=12)\n",
    "plt.show()"
   ]
  },
  {
   "cell_type": "code",
   "execution_count": 93,
   "metadata": {},
   "outputs": [
    {
     "name": "stdout",
     "output_type": "stream",
     "text": [
      "DayCalls is Gaussian\n"
     ]
    }
   ],
   "source": [
    "stat,p= (shapiro(telecom_churn_df['DayCalls']))\n",
    "alpha=0.05\n",
    "\n",
    "if p > alpha: \n",
    "    print('DayCalls is Gaussian')\n",
    "else: \n",
    "    print('DayCalls is not Gaussian')"
   ]
  },
  {
   "cell_type": "code",
   "execution_count": 94,
   "metadata": {},
   "outputs": [
    {
     "data": {
      "image/png": "[encoded data removed]",
      "text/plain": [
       "<Figure size 432x288 with 1 Axes>"
      ]
     },
     "metadata": {
      "needs_background": "light"
     },
     "output_type": "display_data"
    }
   ],
   "source": [
    "plt.hist(telecom_churn_df['OverageFee'],bins=12)\n",
    "plt.show()"
   ]
  },
  {
   "cell_type": "code",
   "execution_count": 95,
   "metadata": {},
   "outputs": [
    {
     "data": {
      "image/png": "[encoded data removed]",
      "text/plain": [
       "<Figure size 432x288 with 1 Axes>"
      ]
     },
     "metadata": {
      "needs_background": "light"
     },
     "output_type": "display_data"
    }
   ],
   "source": [
    "qqplot(telecom_churn_df['OverageFee'],line='s')\n",
    "plt.show()"
   ]
  },
  {
   "cell_type": "code",
   "execution_count": 96,
   "metadata": {},
   "outputs": [
    {
     "name": "stdout",
     "output_type": "stream",
     "text": [
      "MonthlyCharge trnasform data is Gaussian\n"
     ]
    }
   ],
   "source": [
    "stat,p= (shapiro(telecom_churn_df['OverageFee']))\n",
    "alpha=0.05\n",
    "\n",
    "if p > alpha: \n",
    "    print('MonthlyCharge trnasform data is Gaussian')\n",
    "else: \n",
    "    print('MonthlyCharge trnasform data is not Gaussian')"
   ]
  },
  {
   "cell_type": "code",
   "execution_count": 97,
   "metadata": {},
   "outputs": [
    {
     "data": {
      "image/png": "[encoded data removed]",
      "text/plain": [
       "<Figure size 432x288 with 1 Axes>"
      ]
     },
     "metadata": {
      "needs_background": "light"
     },
     "output_type": "display_data"
    }
   ],
   "source": [
    "plt.hist(telecom_churn_df['RoamMins'],bins=12)\n",
    "plt.show()"
   ]
  },
  {
   "cell_type": "code",
   "execution_count": 98,
   "metadata": {},
   "outputs": [
    {
     "data": {
      "image/png": "[encoded data removed]",
      "text/plain": [
       "<Figure size 432x288 with 1 Axes>"
      ]
     },
     "metadata": {
      "needs_background": "light"
     },
     "output_type": "display_data"
    },
    {
     "name": "stdout",
     "output_type": "stream",
     "text": [
      "Customers not availaing Roaming 18\n"
     ]
    },
    {
     "data": {
      "image/png": "[encoded data removed]",
      "text/plain": [
       "<Figure size 432x288 with 1 Axes>"
      ]
     },
     "metadata": {
      "needs_background": "light"
     },
     "output_type": "display_data"
    }
   ],
   "source": [
    "qqplot(telecom_churn_df['RoamMins'],line='s')\n",
    "plt.show()\n",
    "z3=telecom_churn_df['RoamMins']==0\n",
    "print('Customers not availaing Roaming',sum(z3))\n",
    "\n",
    "#dropping these ones\n",
    "telecom_churn_df=telecom_churn_df[-z3]\n",
    "qqplot(telecom_churn_df['RoamMins'],line='s')\n",
    "plt.show()"
   ]
  },
  {
   "cell_type": "code",
   "execution_count": 99,
   "metadata": {},
   "outputs": [
    {
     "name": "stdout",
     "output_type": "stream",
     "text": [
      "MonthlyCharge trnasform data is Gaussian\n"
     ]
    }
   ],
   "source": [
    "stat,p= (shapiro(telecom_churn_df['OverageFee']))\n",
    "alpha=0.05\n",
    "\n",
    "if p > alpha: \n",
    "    print('MonthlyCharge trnasform data is Gaussian')\n",
    "else: \n",
    "    print('MonthlyCharge trnasform data is not Gaussian')"
   ]
  },
  {
   "cell_type": "markdown",
   "metadata": {},
   "source": [
    "### Compute the sample skewness of a data set."
   ]
  },
  {
   "cell_type": "markdown",
   "metadata": {},
   "source": [
    "skewness = 0 : normally distributed.\n",
    "\n",
    "skewness > 0 : more weight in the left tail of the distribution.\n",
    "\n",
    "skewness < 0 : more weight in the right tail of the distribution. "
   ]
  },
  {
   "cell_type": "markdown",
   "metadata": {},
   "source": [
    "A \"skewed right\" distribution is one in which the tail is on the right side. \n",
    "\n",
    "A \"skewed left\" distribution is one in which the tail is on the left side."
   ]
  },
  {
   "cell_type": "code",
   "execution_count": 100,
   "metadata": {},
   "outputs": [
    {
     "data": {
      "image/png": "[encoded data removed]",
      "text/plain": [
       "<Figure size 432x288 with 1 Axes>"
      ]
     },
     "metadata": {
      "needs_background": "light"
     },
     "output_type": "display_data"
    },
    {
     "name": "stdout",
     "output_type": "stream",
     "text": [
      "Data has high right skew of 0.6009128081005978\n"
     ]
    }
   ],
   "source": [
    "plt.hist(telecom_churn_df['MonthlyCharge'],bins=12)\n",
    "plt.show()\n",
    "\n",
    "from scipy.stats import skew\n",
    "x=telecom_churn_df['MonthlyCharge']\n",
    "print('Data has high right skew of',skew(telecom_churn_df['MonthlyCharge']))"
   ]
  },
  {
   "cell_type": "markdown",
   "metadata": {},
   "source": [
    "### Trsansformation to convert data in to Normal distribution"
   ]
  },
  {
   "cell_type": "code",
   "execution_count": 101,
   "metadata": {},
   "outputs": [
    {
     "data": {
      "image/png": "[encoded data removed]",
      "text/plain": [
       "<Figure size 432x288 with 1 Axes>"
      ]
     },
     "metadata": {
      "needs_background": "light"
     },
     "output_type": "display_data"
    },
    {
     "name": "stdout",
     "output_type": "stream",
     "text": [
      "Data has virtually no skew ; approx skew: 0.0004748300159473763\n"
     ]
    }
   ],
   "source": [
    "#trying out some transformation\n",
    "x1=np.log(telecom_churn_df['MonthlyCharge']+12)\n",
    "plt.hist(x1,bins=12)\n",
    "plt.show()\n",
    "print('Data has virtually no skew ; approx skew:',skew(x1))"
   ]
  },
  {
   "cell_type": "code",
   "execution_count": 102,
   "metadata": {},
   "outputs": [
    {
     "data": {
      "image/png": "[encoded data removed]",
      "text/plain": [
       "<Figure size 432x288 with 1 Axes>"
      ]
     },
     "metadata": {
      "needs_background": "light"
     },
     "output_type": "display_data"
    }
   ],
   "source": [
    "qqplot(x1,line='s')\n",
    "plt.show()"
   ]
  },
  {
   "cell_type": "code",
   "execution_count": 103,
   "metadata": {},
   "outputs": [
    {
     "name": "stdout",
     "output_type": "stream",
     "text": [
      "mean 3.32\n",
      "mean 4.2\n",
      "median 4.04\n",
      "median 4.19\n",
      "median 4.36\n",
      "mean 5\n"
     ]
    }
   ],
   "source": [
    "print('mean',round(np.min(x1),2))\n",
    "print('mean',round(np.mean(x1),2))\n",
    "print('median',np.percentile(x1,25).round(2))\n",
    "print('median',np.percentile(x1,50).round(2))\n",
    "print('median',np.percentile(x1,75).round(2))\n",
    "print('mean',round(np.max(x1)))"
   ]
  },
  {
   "cell_type": "markdown",
   "metadata": {},
   "source": [
    "### Box-cox transformation"
   ]
  },
  {
   "cell_type": "markdown",
   "metadata": {},
   "source": [
    "A Box Cox transformation is a transformation of a non-normal dependent variables into a normal shape. \n",
    "\n",
    "Transformation technique is useful to stabilize variance, make the data more normal distribution-like, improve the validity of measures of association.\n",
    "\n",
    "The Box-Cox transformation is defined as: \n",
    "\n",
    "T(Y)=(Y exp(λ)−1)/λ\n",
    "\n",
    "where Y is the response variable and λ is the transformation parameter. λ varies from -5 to 5. In the transformation, all values of λ  are considered and the optimal value for a given variable is selected.\n",
    "\n",
    "\n",
    "condition - Non negative values in the feature, Not even zero."
   ]
  },
  {
   "cell_type": "code",
   "execution_count": 104,
   "metadata": {},
   "outputs": [
    {
     "data": {
      "text/plain": [
       "count    3313.000000\n",
       "mean       56.381890\n",
       "std        16.406687\n",
       "min        15.700000\n",
       "25%        45.000000\n",
       "50%        53.700000\n",
       "75%        66.300000\n",
       "max       111.300000\n",
       "Name: MonthlyCharge, dtype: float64"
      ]
     },
     "execution_count": 104,
     "metadata": {},
     "output_type": "execute_result"
    }
   ],
   "source": [
    "telecom_churn_df['MonthlyCharge'].describe()"
   ]
  },
  {
   "cell_type": "code",
   "execution_count": 129,
   "metadata": {},
   "outputs": [
    {
     "data": {
      "text/html": [
       "<div>\n",
       "<style scoped>\n",
       "    .dataframe tbody tr th:only-of-type {\n",
       "        vertical-align: middle;\n",
       "    }\n",
       "\n",
       "    .dataframe tbody tr th {\n",
       "        vertical-align: top;\n",
       "    }\n",
       "\n",
       "    .dataframe thead th {\n",
       "        text-align: right;\n",
       "    }\n",
       "</style>\n",
       "<table border=\"1\" class=\"dataframe\">\n",
       "  <thead>\n",
       "    <tr style=\"text-align: right;\">\n",
       "      <th></th>\n",
       "      <th>Churn</th>\n",
       "      <th>AccountWeeks</th>\n",
       "      <th>ContractRenewal</th>\n",
       "      <th>DataPlan</th>\n",
       "      <th>DataUsage</th>\n",
       "      <th>CustServCalls</th>\n",
       "      <th>DayMins</th>\n",
       "      <th>DayCalls</th>\n",
       "      <th>MonthlyCharge</th>\n",
       "      <th>OverageFee</th>\n",
       "      <th>RoamMins</th>\n",
       "      <th>MonthlyCharge_t</th>\n",
       "    </tr>\n",
       "  </thead>\n",
       "  <tbody>\n",
       "  </tbody>\n",
       "</table>\n",
       "</div>"
      ],
      "text/plain": [
       "Empty DataFrame\n",
       "Columns: [Churn, AccountWeeks, ContractRenewal, DataPlan, DataUsage, CustServCalls, DayMins, DayCalls, MonthlyCharge, OverageFee, RoamMins, MonthlyCharge_t]\n",
       "Index: []"
      ]
     },
     "execution_count": 129,
     "metadata": {},
     "output_type": "execute_result"
    }
   ],
   "source": [
    "telecom_churn_df[telecom_churn_df['MonthlyCharge'] < 0]"
   ]
  },
  {
   "cell_type": "code",
   "execution_count": 105,
   "metadata": {},
   "outputs": [
    {
     "data": {
      "image/png": "[encoded data removed]",
      "text/plain": [
       "<Figure size 432x288 with 1 Axes>"
      ]
     },
     "metadata": {
      "needs_background": "light"
     },
     "output_type": "display_data"
    },
    {
     "name": "stdout",
     "output_type": "stream",
     "text": [
      "Data has virtually no skew ; approx skew: 0.0028678484568669537\n"
     ]
    }
   ],
   "source": [
    "#Box-cox transformation\n",
    "import scipy.stats as scp\n",
    "z3=scp.boxcox(telecom_churn_df['MonthlyCharge'], lmbda=0.2, alpha=12)\n",
    "plt.hist(z3,bins=12)\n",
    "plt.show()\n",
    "print('Data has virtually no skew ; approx skew:',skew(z3))"
   ]
  },
  {
   "cell_type": "code",
   "execution_count": 106,
   "metadata": {},
   "outputs": [
    {
     "data": {
      "image/png": "[encoded data removed]",
      "text/plain": [
       "<Figure size 432x288 with 1 Axes>"
      ]
     },
     "metadata": {
      "needs_background": "light"
     },
     "output_type": "display_data"
    }
   ],
   "source": [
    "qqplot(z3,line='s')\n",
    "plt.show()"
   ]
  },
  {
   "cell_type": "code",
   "execution_count": 107,
   "metadata": {},
   "outputs": [
    {
     "name": "stdout",
     "output_type": "stream",
     "text": [
      "min 3.67\n",
      "0.25 percentile 4.22\n",
      "mean 6.124438667376959\n",
      "Q1 5.71\n",
      "Q2 6.09\n",
      "Q3 6.57\n",
      "max 7.83\n",
      "99.75 percentile 7.69\n"
     ]
    }
   ],
   "source": [
    "print('min',round(np.min(z3),2))\n",
    "print('0.25 percentile',np.percentile(z3,0.25).round(2))\n",
    "print('mean',np.mean(z3))\n",
    "print('Q1',np.percentile(z3,25).round(2))\n",
    "print('Q2',np.percentile(z3,50).round(2))\n",
    "print('Q3',np.percentile(z3,75).round(2))\n",
    "print('max',np.max(z3).round(2))\n",
    "print('99.75 percentile',np.percentile(z3,99.75).round(2))"
   ]
  },
  {
   "cell_type": "code",
   "execution_count": 108,
   "metadata": {},
   "outputs": [
    {
     "name": "stdout",
     "output_type": "stream",
     "text": [
      "Count for values less than flooring of 3.5 is 9\n",
      "Count for values more than ceiling of 4.76 is 9\n"
     ]
    }
   ],
   "source": [
    "telecom_churn_df['MonthlyCharge_t']=z3\n",
    "pos1=telecom_churn_df['MonthlyCharge_t']<np.percentile(telecom_churn_df['MonthlyCharge_t'],0.25)\n",
    "pos2=telecom_churn_df['MonthlyCharge_t']>np.percentile(telecom_churn_df['MonthlyCharge_t'],99.75)\n",
    "print('Count for values less than flooring of', np.percentile(x1,0.25).round(2),'is',pos1.sum())\n",
    "print('Count for values more than ceiling of',np.percentile(x1,99.75).round(2),'is',pos2.sum())\n",
    "telecom_churn_df=telecom_churn_df[-pos1]\n",
    "telecom_churn_df=telecom_churn_df[-pos2]"
   ]
  },
  {
   "cell_type": "code",
   "execution_count": 109,
   "metadata": {},
   "outputs": [
    {
     "data": {
      "image/png": "[encoded data removed]",
      "text/plain": [
       "<Figure size 432x288 with 1 Axes>"
      ]
     },
     "metadata": {
      "needs_background": "light"
     },
     "output_type": "display_data"
    }
   ],
   "source": [
    "telecom_churn_df['MonthlyCharge_t'].describe()\n",
    "qqplot(telecom_churn_df['MonthlyCharge_t'],line='s')\n",
    "plt.show()\n"
   ]
  },
  {
   "cell_type": "code",
   "execution_count": 110,
   "metadata": {},
   "outputs": [
    {
     "name": "stdout",
     "output_type": "stream",
     "text": [
      "MonthlyCharge_t is not Gaussian\n"
     ]
    }
   ],
   "source": [
    "stat,p= (shapiro(telecom_churn_df['MonthlyCharge_t']))\n",
    "alpha=0.05\n",
    "\n",
    "if p > alpha: \n",
    "    print('MonthlyCharge_t is Gaussian')\n",
    "else: \n",
    "    print('MonthlyCharge_t is not Gaussian')"
   ]
  },
  {
   "cell_type": "code",
   "execution_count": 111,
   "metadata": {},
   "outputs": [
    {
     "name": "stdout",
     "output_type": "stream",
     "text": [
      "Statistic: 6.078\n",
      "15.000: 0.575, data does not look normal (reject H0)\n",
      "10.000: 0.655, data does not look normal (reject H0)\n",
      "5.000: 0.786, data does not look normal (reject H0)\n",
      "2.500: 0.917, data does not look normal (reject H0)\n",
      "1.000: 1.091, data does not look normal (reject H0)\n"
     ]
    }
   ],
   "source": [
    "result = anderson(telecom_churn_df['MonthlyCharge_t'])\n",
    "\n",
    "print('Statistic: %.3f' % result.statistic)\n",
    "\n",
    "p = 0\n",
    "\n",
    "for i in range(len(result.critical_values)): \n",
    "    sl, cv = result.significance_level[i], result.critical_values[i]\n",
    "\n",
    "    if result.statistic < result.critical_values[i]:\n",
    "        print('%.3f: %.3f, data looks normal (fail to reject H0)' % (sl, cv))\n",
    "    else:\n",
    "        print('%.3f: %.3f, data does not look normal (reject H0)' % (sl, cv))"
   ]
  },
  {
   "cell_type": "code",
   "execution_count": 112,
   "metadata": {},
   "outputs": [],
   "source": [
    "# we will use this transformed variable alongside Accountweeks,DayMins, dayCalls, OverageFees and RoamMins"
   ]
  },
  {
   "cell_type": "code",
   "execution_count": 113,
   "metadata": {},
   "outputs": [
    {
     "name": "stdout",
     "output_type": "stream",
     "text": [
      "<class 'pandas.core.frame.DataFrame'>\n",
      "Int64Index: 3295 entries, 0 to 3332\n",
      "Data columns (total 12 columns):\n",
      " #   Column           Non-Null Count  Dtype  \n",
      "---  ------           --------------  -----  \n",
      " 0   Churn            3295 non-null   int64  \n",
      " 1   AccountWeeks     3295 non-null   int64  \n",
      " 2   ContractRenewal  3295 non-null   int64  \n",
      " 3   DataPlan         3295 non-null   int64  \n",
      " 4   DataUsage        3295 non-null   float64\n",
      " 5   CustServCalls    3295 non-null   int64  \n",
      " 6   DayMins          3295 non-null   float64\n",
      " 7   DayCalls         3295 non-null   int64  \n",
      " 8   MonthlyCharge    3295 non-null   float64\n",
      " 9   OverageFee       3295 non-null   float64\n",
      " 10  RoamMins         3295 non-null   float64\n",
      " 11  MonthlyCharge_t  3295 non-null   float64\n",
      "dtypes: float64(6), int64(6)\n",
      "memory usage: 334.6 KB\n"
     ]
    }
   ],
   "source": [
    "# we will do LDR using Maholobolis method\n",
    "telecom_churn_df.info()"
   ]
  },
  {
   "cell_type": "code",
   "execution_count": 114,
   "metadata": {},
   "outputs": [],
   "source": [
    "# we will use Mahalobolis classifier for this problem\n",
    "#step1 : check for group totals\n"
   ]
  },
  {
   "cell_type": "code",
   "execution_count": 115,
   "metadata": {},
   "outputs": [
    {
     "name": "stdout",
     "output_type": "stream",
     "text": [
      "       AccountWeeks  ContractRenewal  DataPlan  DataUsage  CustServCalls  \\\n",
      "Churn                                                                      \n",
      "0            283860             2630       830    2422.61           4083   \n",
      "1             49196              343        79     258.57           1064   \n",
      "\n",
      "        DayMins  DayCalls  MonthlyCharge  OverageFee  RoamMins  \\\n",
      "Churn                                                            \n",
      "0      493838.3    282364       157227.1    28037.41   28740.7   \n",
      "1       99619.9     48628        28425.7     5101.74    5119.4   \n",
      "\n",
      "       MonthlyCharge_t  \n",
      "Churn                   \n",
      "0         17192.641823  \n",
      "1          2992.272761  \n"
     ]
    }
   ],
   "source": [
    "print(telecom_churn_df.groupby('Churn').sum())"
   ]
  },
  {
   "cell_type": "code",
   "execution_count": 116,
   "metadata": {},
   "outputs": [
    {
     "name": "stdout",
     "output_type": "stream",
     "text": [
      "       AccountWeeks  ContractRenewal  DataPlan  DataUsage  CustServCalls  \\\n",
      "Churn                                                                      \n",
      "0         39.961546         0.248416  0.456009   1.279780       1.165358   \n",
      "1         39.466460         0.451372  0.371503   1.138066       1.850332   \n",
      "\n",
      "         DayMins   DayCalls  MonthlyCharge  OverageFee  RoamMins  \\\n",
      "Churn                                                              \n",
      "0      49.299709  19.752993      16.131738    2.511450  2.663494   \n",
      "1      67.978149  21.145915      15.620072    2.559235  2.760866   \n",
      "\n",
      "       MonthlyCharge_t  \n",
      "Churn                   \n",
      "0             0.633440  \n",
      "1             0.629828  \n"
     ]
    }
   ],
   "source": [
    "print(telecom_churn_df.groupby('Churn').std())"
   ]
  },
  {
   "cell_type": "code",
   "execution_count": 117,
   "metadata": {},
   "outputs": [],
   "source": [
    "# step2 : correlation matrix\n",
    "telecom_churn_final = telecom_churn_df\n",
    "telecom_churn_final=telecom_churn_final.drop([\"ContractRenewal\",\"DataPlan\",\"DataUsage\",\"CustServCalls\",\"MonthlyCharge\"],axis=1)"
   ]
  },
  {
   "cell_type": "code",
   "execution_count": 118,
   "metadata": {},
   "outputs": [
    {
     "data": {
      "text/html": [
       "<div>\n",
       "<style scoped>\n",
       "    .dataframe tbody tr th:only-of-type {\n",
       "        vertical-align: middle;\n",
       "    }\n",
       "\n",
       "    .dataframe tbody tr th {\n",
       "        vertical-align: top;\n",
       "    }\n",
       "\n",
       "    .dataframe thead th {\n",
       "        text-align: right;\n",
       "    }\n",
       "</style>\n",
       "<table border=\"1\" class=\"dataframe\">\n",
       "  <thead>\n",
       "    <tr style=\"text-align: right;\">\n",
       "      <th></th>\n",
       "      <th>Churn</th>\n",
       "      <th>AccountWeeks</th>\n",
       "      <th>DayMins</th>\n",
       "      <th>DayCalls</th>\n",
       "      <th>OverageFee</th>\n",
       "      <th>RoamMins</th>\n",
       "      <th>MonthlyCharge_t</th>\n",
       "    </tr>\n",
       "  </thead>\n",
       "  <tbody>\n",
       "    <tr>\n",
       "      <th>Churn</th>\n",
       "      <td>1.000000</td>\n",
       "      <td>0.016819</td>\n",
       "      <td>0.214199</td>\n",
       "      <td>0.022048</td>\n",
       "      <td>0.096753</td>\n",
       "      <td>0.063266</td>\n",
       "      <td>0.078623</td>\n",
       "    </tr>\n",
       "    <tr>\n",
       "      <th>AccountWeeks</th>\n",
       "      <td>0.016819</td>\n",
       "      <td>1.000000</td>\n",
       "      <td>0.010808</td>\n",
       "      <td>0.037080</td>\n",
       "      <td>-0.003976</td>\n",
       "      <td>0.014647</td>\n",
       "      <td>0.017229</td>\n",
       "    </tr>\n",
       "    <tr>\n",
       "      <th>DayMins</th>\n",
       "      <td>0.214199</td>\n",
       "      <td>0.010808</td>\n",
       "      <td>1.000000</td>\n",
       "      <td>0.001354</td>\n",
       "      <td>-0.007308</td>\n",
       "      <td>-0.020470</td>\n",
       "      <td>0.591425</td>\n",
       "    </tr>\n",
       "    <tr>\n",
       "      <th>DayCalls</th>\n",
       "      <td>0.022048</td>\n",
       "      <td>0.037080</td>\n",
       "      <td>0.001354</td>\n",
       "      <td>1.000000</td>\n",
       "      <td>-0.022244</td>\n",
       "      <td>0.028150</td>\n",
       "      <td>-0.009114</td>\n",
       "    </tr>\n",
       "    <tr>\n",
       "      <th>OverageFee</th>\n",
       "      <td>0.096753</td>\n",
       "      <td>-0.003976</td>\n",
       "      <td>-0.007308</td>\n",
       "      <td>-0.022244</td>\n",
       "      <td>1.000000</td>\n",
       "      <td>-0.018930</td>\n",
       "      <td>0.287457</td>\n",
       "    </tr>\n",
       "    <tr>\n",
       "      <th>RoamMins</th>\n",
       "      <td>0.063266</td>\n",
       "      <td>0.014647</td>\n",
       "      <td>-0.020470</td>\n",
       "      <td>0.028150</td>\n",
       "      <td>-0.018930</td>\n",
       "      <td>1.000000</td>\n",
       "      <td>0.073243</td>\n",
       "    </tr>\n",
       "    <tr>\n",
       "      <th>MonthlyCharge_t</th>\n",
       "      <td>0.078623</td>\n",
       "      <td>0.017229</td>\n",
       "      <td>0.591425</td>\n",
       "      <td>-0.009114</td>\n",
       "      <td>0.287457</td>\n",
       "      <td>0.073243</td>\n",
       "      <td>1.000000</td>\n",
       "    </tr>\n",
       "  </tbody>\n",
       "</table>\n",
       "</div>"
      ],
      "text/plain": [
       "                    Churn  AccountWeeks   DayMins  DayCalls  OverageFee  \\\n",
       "Churn            1.000000      0.016819  0.214199  0.022048    0.096753   \n",
       "AccountWeeks     0.016819      1.000000  0.010808  0.037080   -0.003976   \n",
       "DayMins          0.214199      0.010808  1.000000  0.001354   -0.007308   \n",
       "DayCalls         0.022048      0.037080  0.001354  1.000000   -0.022244   \n",
       "OverageFee       0.096753     -0.003976 -0.007308 -0.022244    1.000000   \n",
       "RoamMins         0.063266      0.014647 -0.020470  0.028150   -0.018930   \n",
       "MonthlyCharge_t  0.078623      0.017229  0.591425 -0.009114    0.287457   \n",
       "\n",
       "                 RoamMins  MonthlyCharge_t  \n",
       "Churn            0.063266         0.078623  \n",
       "AccountWeeks     0.014647         0.017229  \n",
       "DayMins         -0.020470         0.591425  \n",
       "DayCalls         0.028150        -0.009114  \n",
       "OverageFee      -0.018930         0.287457  \n",
       "RoamMins         1.000000         0.073243  \n",
       "MonthlyCharge_t  0.073243         1.000000  "
      ]
     },
     "execution_count": 118,
     "metadata": {},
     "output_type": "execute_result"
    }
   ],
   "source": [
    "telecom_churn_final.corr(method='pearson')"
   ]
  },
  {
   "cell_type": "code",
   "execution_count": 119,
   "metadata": {},
   "outputs": [],
   "source": [
    "#high correlation between DayMins and MonthlyCharge_t; we can dropformer\n",
    "telecom_churn_final=telecom_churn_final.drop([\"DayMins\"],axis=1)"
   ]
  },
  {
   "cell_type": "code",
   "execution_count": 120,
   "metadata": {},
   "outputs": [
    {
     "data": {
      "text/html": [
       "<div>\n",
       "<style scoped>\n",
       "    .dataframe tbody tr th:only-of-type {\n",
       "        vertical-align: middle;\n",
       "    }\n",
       "\n",
       "    .dataframe tbody tr th {\n",
       "        vertical-align: top;\n",
       "    }\n",
       "\n",
       "    .dataframe thead th {\n",
       "        text-align: right;\n",
       "    }\n",
       "</style>\n",
       "<table border=\"1\" class=\"dataframe\">\n",
       "  <thead>\n",
       "    <tr style=\"text-align: right;\">\n",
       "      <th></th>\n",
       "      <th>Churn</th>\n",
       "      <th>AccountWeeks</th>\n",
       "      <th>DayCalls</th>\n",
       "      <th>OverageFee</th>\n",
       "      <th>RoamMins</th>\n",
       "      <th>MonthlyCharge_t</th>\n",
       "    </tr>\n",
       "  </thead>\n",
       "  <tbody>\n",
       "    <tr>\n",
       "      <th>Churn</th>\n",
       "      <td>1.000000</td>\n",
       "      <td>0.016819</td>\n",
       "      <td>0.022048</td>\n",
       "      <td>0.096753</td>\n",
       "      <td>0.063266</td>\n",
       "      <td>0.078623</td>\n",
       "    </tr>\n",
       "    <tr>\n",
       "      <th>AccountWeeks</th>\n",
       "      <td>0.016819</td>\n",
       "      <td>1.000000</td>\n",
       "      <td>0.037080</td>\n",
       "      <td>-0.003976</td>\n",
       "      <td>0.014647</td>\n",
       "      <td>0.017229</td>\n",
       "    </tr>\n",
       "    <tr>\n",
       "      <th>DayCalls</th>\n",
       "      <td>0.022048</td>\n",
       "      <td>0.037080</td>\n",
       "      <td>1.000000</td>\n",
       "      <td>-0.022244</td>\n",
       "      <td>0.028150</td>\n",
       "      <td>-0.009114</td>\n",
       "    </tr>\n",
       "    <tr>\n",
       "      <th>OverageFee</th>\n",
       "      <td>0.096753</td>\n",
       "      <td>-0.003976</td>\n",
       "      <td>-0.022244</td>\n",
       "      <td>1.000000</td>\n",
       "      <td>-0.018930</td>\n",
       "      <td>0.287457</td>\n",
       "    </tr>\n",
       "    <tr>\n",
       "      <th>RoamMins</th>\n",
       "      <td>0.063266</td>\n",
       "      <td>0.014647</td>\n",
       "      <td>0.028150</td>\n",
       "      <td>-0.018930</td>\n",
       "      <td>1.000000</td>\n",
       "      <td>0.073243</td>\n",
       "    </tr>\n",
       "    <tr>\n",
       "      <th>MonthlyCharge_t</th>\n",
       "      <td>0.078623</td>\n",
       "      <td>0.017229</td>\n",
       "      <td>-0.009114</td>\n",
       "      <td>0.287457</td>\n",
       "      <td>0.073243</td>\n",
       "      <td>1.000000</td>\n",
       "    </tr>\n",
       "  </tbody>\n",
       "</table>\n",
       "</div>"
      ],
      "text/plain": [
       "                    Churn  AccountWeeks  DayCalls  OverageFee  RoamMins  \\\n",
       "Churn            1.000000      0.016819  0.022048    0.096753  0.063266   \n",
       "AccountWeeks     0.016819      1.000000  0.037080   -0.003976  0.014647   \n",
       "DayCalls         0.022048      0.037080  1.000000   -0.022244  0.028150   \n",
       "OverageFee       0.096753     -0.003976 -0.022244    1.000000 -0.018930   \n",
       "RoamMins         0.063266      0.014647  0.028150   -0.018930  1.000000   \n",
       "MonthlyCharge_t  0.078623      0.017229 -0.009114    0.287457  0.073243   \n",
       "\n",
       "                 MonthlyCharge_t  \n",
       "Churn                   0.078623  \n",
       "AccountWeeks            0.017229  \n",
       "DayCalls               -0.009114  \n",
       "OverageFee              0.287457  \n",
       "RoamMins                0.073243  \n",
       "MonthlyCharge_t         1.000000  "
      ]
     },
     "execution_count": 120,
     "metadata": {},
     "output_type": "execute_result"
    }
   ],
   "source": [
    "telecom_churn_final.corr(method='pearson')"
   ]
  },
  {
   "cell_type": "code",
   "execution_count": 121,
   "metadata": {},
   "outputs": [
    {
     "data": {
      "text/html": [
       "<div>\n",
       "<style scoped>\n",
       "    .dataframe tbody tr th:only-of-type {\n",
       "        vertical-align: middle;\n",
       "    }\n",
       "\n",
       "    .dataframe tbody tr th {\n",
       "        vertical-align: top;\n",
       "    }\n",
       "\n",
       "    .dataframe thead th {\n",
       "        text-align: right;\n",
       "    }\n",
       "</style>\n",
       "<table border=\"1\" class=\"dataframe\">\n",
       "  <thead>\n",
       "    <tr style=\"text-align: right;\">\n",
       "      <th></th>\n",
       "      <th>AccountWeeks</th>\n",
       "      <th>DayCalls</th>\n",
       "      <th>OverageFee</th>\n",
       "      <th>RoamMins</th>\n",
       "      <th>MonthlyCharge_t</th>\n",
       "    </tr>\n",
       "  </thead>\n",
       "  <tbody>\n",
       "    <tr>\n",
       "      <th>count</th>\n",
       "      <td>3295.000000</td>\n",
       "      <td>3295.000000</td>\n",
       "      <td>3295.000000</td>\n",
       "      <td>3295.000000</td>\n",
       "      <td>3295.000000</td>\n",
       "    </tr>\n",
       "    <tr>\n",
       "      <th>mean</th>\n",
       "      <td>101.079211</td>\n",
       "      <td>100.452807</td>\n",
       "      <td>10.057405</td>\n",
       "      <td>10.276206</td>\n",
       "      <td>6.125922</td>\n",
       "    </tr>\n",
       "    <tr>\n",
       "      <th>std</th>\n",
       "      <td>39.889649</td>\n",
       "      <td>19.963038</td>\n",
       "      <td>2.529929</td>\n",
       "      <td>2.682816</td>\n",
       "      <td>0.634786</td>\n",
       "    </tr>\n",
       "    <tr>\n",
       "      <th>min</th>\n",
       "      <td>1.000000</td>\n",
       "      <td>30.000000</td>\n",
       "      <td>0.000000</td>\n",
       "      <td>1.100000</td>\n",
       "      <td>4.278004</td>\n",
       "    </tr>\n",
       "    <tr>\n",
       "      <th>25%</th>\n",
       "      <td>74.000000</td>\n",
       "      <td>87.000000</td>\n",
       "      <td>8.345000</td>\n",
       "      <td>8.500000</td>\n",
       "      <td>5.705637</td>\n",
       "    </tr>\n",
       "    <tr>\n",
       "      <th>50%</th>\n",
       "      <td>101.000000</td>\n",
       "      <td>101.000000</td>\n",
       "      <td>10.080000</td>\n",
       "      <td>10.300000</td>\n",
       "      <td>6.090851</td>\n",
       "    </tr>\n",
       "    <tr>\n",
       "      <th>75%</th>\n",
       "      <td>127.000000</td>\n",
       "      <td>114.000000</td>\n",
       "      <td>11.770000</td>\n",
       "      <td>12.100000</td>\n",
       "      <td>6.566638</td>\n",
       "    </tr>\n",
       "    <tr>\n",
       "      <th>max</th>\n",
       "      <td>243.000000</td>\n",
       "      <td>165.000000</td>\n",
       "      <td>18.190000</td>\n",
       "      <td>18.900000</td>\n",
       "      <td>7.680171</td>\n",
       "    </tr>\n",
       "  </tbody>\n",
       "</table>\n",
       "</div>"
      ],
      "text/plain": [
       "       AccountWeeks     DayCalls   OverageFee     RoamMins  MonthlyCharge_t\n",
       "count   3295.000000  3295.000000  3295.000000  3295.000000      3295.000000\n",
       "mean     101.079211   100.452807    10.057405    10.276206         6.125922\n",
       "std       39.889649    19.963038     2.529929     2.682816         0.634786\n",
       "min        1.000000    30.000000     0.000000     1.100000         4.278004\n",
       "25%       74.000000    87.000000     8.345000     8.500000         5.705637\n",
       "50%      101.000000   101.000000    10.080000    10.300000         6.090851\n",
       "75%      127.000000   114.000000    11.770000    12.100000         6.566638\n",
       "max      243.000000   165.000000    18.190000    18.900000         7.680171"
      ]
     },
     "execution_count": 121,
     "metadata": {},
     "output_type": "execute_result"
    }
   ],
   "source": [
    "#step2 : we will standardize data\n",
    "from sklearn import preprocessing\n",
    "telecom_churn_x=telecom_churn_final.drop([\"Churn\"],axis=1)\n",
    "telecom_churn_y=telecom_churn_final[\"Churn\"]\n",
    "telecom_churn_x.describe()"
   ]
  },
  {
   "cell_type": "code",
   "execution_count": 122,
   "metadata": {},
   "outputs": [],
   "source": [
    "#x=preprocessing.scale(telecom_churn_x)\n",
    "#x.T"
   ]
  },
  {
   "cell_type": "code",
   "execution_count": 123,
   "metadata": {},
   "outputs": [],
   "source": [
    "#telecom_churn_x2=pd.DataFrame(x,columns=['wks','calls_d','plan','roam','monthly_t'])\n",
    "#telecom_churn_x2.describe().transpose()"
   ]
  },
  {
   "cell_type": "code",
   "execution_count": 124,
   "metadata": {},
   "outputs": [],
   "source": [
    "#low correlation seen between variables\n",
    "# we will use the Levenes test for checking variance\n",
    "#from scipy.stats import levene\n",
    "#levene(telecom_churn_x2['wks'],telecom_churn_x2['calls_d'],telecom_churn_x2['plan'],telecom_churn_x2['roam'],telecom_churn_x2['monthly_t'])\n"
   ]
  },
  {
   "cell_type": "code",
   "execution_count": 125,
   "metadata": {},
   "outputs": [],
   "source": [
    "#Box's M test"
   ]
  },
  {
   "cell_type": "code",
   "execution_count": 126,
   "metadata": {},
   "outputs": [],
   "source": [
    "from sklearn.model_selection import train_test_split\n",
    "\n",
    "x_train, x_test, y_train, y_test = train_test_split(telecom_churn_x, telecom_churn_y, test_size=0.3, random_state=111)"
   ]
  },
  {
   "cell_type": "code",
   "execution_count": 127,
   "metadata": {},
   "outputs": [],
   "source": [
    "#transform data\n",
    "#from sklearn.preprocessing import StandardScaler\n",
    "\n",
    "#sc = StandardScaler()\n",
    "#x_train = sc.fit_transform(x_train)\n",
    "#x_test = sc.transform(x_test)"
   ]
  },
  {
   "cell_type": "code",
   "execution_count": 128,
   "metadata": {},
   "outputs": [],
   "source": [
    "#from sklearn.discriminant_analysis import LinearDiscriminantAnalysis as LDA\n",
    "\n",
    "#lda = LDA(n_components=1)\n",
    "#x_train = lda.fit_transform(x_train, y_train)\n",
    "#x_test = lda.transform(x_test)"
   ]
  }
 ],
 "metadata": {
  "kernelspec": {
   "display_name": "Python 3",
   "language": "python",
   "name": "python3"
  },
  "language_info": {
   "codemirror_mode": {
    "name": "ipython",
    "version": 3
   },
   "file_extension": ".py",
   "mimetype": "text/x-python",
   "name": "python",
   "nbconvert_exporter": "python",
   "pygments_lexer": "ipython3",
   "version": "3.7.6"
  }
 },
 "nbformat": 4,
 "nbformat_minor": 2
}
